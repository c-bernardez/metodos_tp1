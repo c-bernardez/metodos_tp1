{
 "cells": [
  {
   "cell_type": "code",
   "execution_count": 67,
   "metadata": {},
   "outputs": [],
   "source": [
    "import matricesRalas as mr\n",
    "import matplotlib.pyplot as plt\n",
    "import numpy as np\n"
   ]
  },
  {
   "cell_type": "code",
   "execution_count": 68,
   "metadata": {},
   "outputs": [],
   "source": [
    "#inicialización de matrices\n",
    "\n",
    "#creamos la matriz de adyacencia W: si un paper j cita a un paper i, hay un 1 (j columna, i fila)\n",
    "W = mr.MatrizRala(11, 11)\n",
    "\n",
    "W[0, 2] = 1  \n",
    "W[0, 3] = 1  \n",
    "W[0, 4] = 1\n",
    "\n",
    "W[1, 0] = 1  \n",
    "\n",
    "W[4, 10] = 1\n",
    "\n",
    "W[5, 0] = 1\n",
    "W[5, 6] = 1\n",
    "\n",
    "W[6, 0] = 1\n",
    "W[6, 7] = 1\n",
    "W[6, 8] = 1\n",
    "\n",
    "W[7, 8] = 1\n",
    "\n",
    "W[8, 5] = 1\n",
    "\n",
    "W[9, 8] = 1\n",
    "\n",
    "\n",
    "#creamos la matriz de probabilidades D\n",
    "D = mr.MatrizRala(11, 11)\n",
    "D[0, 0] = 1/3  \n",
    "D[2, 2] = 1  \n",
    "D[3, 3] = 1  \n",
    "D[4, 4] = 1  \n",
    "D[5, 5] = 1\n",
    "D[6, 6] = 1  \n",
    "D[7, 7] = 1\n",
    "D[8, 8] = 1/3  \n",
    "D[10, 10] = 1\n",
    "\n",
    "#creamos la matriz identidad de las mismas dimensioens que W@D\n",
    "I = mr.MatrizRala(11,11)\n",
    "I[0, 0] = 1\n",
    "I[1, 1] = 1\n",
    "I[2, 2] = 1  \n",
    "I[3, 3] = 1  \n",
    "I[4, 4] = 1  \n",
    "I[5, 5] = 1\n",
    "I[6, 6] = 1  \n",
    "I[7, 7] = 1\n",
    "I[8, 8] = 1\n",
    "I[9, 9] = 1\n",
    "I[10, 10] = 1\n",
    "\n",
    "#definimos los parámetros\n",
    "d = 0.85\n",
    "N = 11"
   ]
  },
  {
   "cell_type": "markdown",
   "metadata": {},
   "source": [
    "Para encontrar $p^{*}$ podemos despejarlo de la fórmula $p^{*}=\\frac{1-d}{N}+dWDp^{*}$ como sigue: <br>\n",
    "$-\\frac{1-d}{N}=dWDp^{*}-p^{*}$ <br>\n",
    "$-\\frac{1-d}{N}=(dWD-\\mathbb{I})p^{*}$ <br>\n",
    "Y encontramos un sistema lineal expresado en la forma matricial $b = Ax$, donde $A=dWD-\\mathbb{I}$, $x=p^{*}$ y $-\\frac{1-d}{N}$\n"
   ]
  },
  {
   "cell_type": "code",
   "execution_count": 69,
   "metadata": {},
   "outputs": [
    {
     "name": "stdout",
     "output_type": "stream",
     "text": [
      "Solución de p*:\n",
      "MatrizRala([ \n",
      "    [ 0.05826 ]\n",
      "    [ 0.03014 ]\n",
      "    [ 0.01364 ]\n",
      "    [ 0.01364 ]\n",
      "    [ 0.02523 ]\n",
      "    [ 0.1154 ]\n",
      "    [ 0.1003 ]\n",
      "    [ 0.04529 ]\n",
      "    [ 0.11172 ]\n",
      "    [ 0.04529 ]\n",
      "    [ 0.01364 ]\n",
      "])\n"
     ]
    }
   ],
   "source": [
    "#inicialización de A, x y b\n",
    "A = (d * (W @ D)) - I\n",
    "b = np.ones((N, 1)) * - ((1 - d) / N)\n",
    "b_matriz_rala = mr.MatrizRala(N, 1)\n",
    "for i in range(N):\n",
    "    b_matriz_rala[i, 0] = b[i, 0]\n",
    "\n",
    "#Resolver el sistema utilizando GaussJordan\n",
    "p_star = mr.GaussJordan(A, b_matriz_rala)\n",
    "print(\"Solución de p*:\")\n",
    "print(p_star) "
   ]
  },
  {
   "cell_type": "markdown",
   "metadata": {},
   "source": [
    "Comparamos este resultado con el obtenido a través del método iterativo $p_{t+1}=\\frac{1-d}{N}+dWDp_{t}$. <br>"
   ]
  },
  {
   "cell_type": "code",
   "execution_count": 70,
   "metadata": {},
   "outputs": [
    {
     "name": "stdout",
     "output_type": "stream",
     "text": [
      "MatrizRala([ \n",
      "    [ 0.05826 ]\n",
      "    [ 0.03014 ]\n",
      "    [ 0.01364 ]\n",
      "    [ 0.01364 ]\n",
      "    [ 0.02523 ]\n",
      "    [ 0.11554 ]\n",
      "    [ 0.10043 ]\n",
      "    [ 0.04535 ]\n",
      "    [ 0.11187 ]\n",
      "    [ 0.04535 ]\n",
      "    [ 0.01364 ]\n",
      "])\n"
     ]
    }
   ],
   "source": [
    "# Inicialización de variables\n",
    "p_t0 = np.ones((N, 1)) * (1 / N)\n",
    "a = np.ones((N, 1)) * ((1 - d) / N)  # Distribución equiprobable para la probabilidad inicial\n",
    "\n",
    "# Crear matrices ralas\n",
    "a_matriz_rala = mr.MatrizRala(N, 1)\n",
    "for i in range(N):\n",
    "    a_matriz_rala[i, 0] = a[i, 0]\n",
    "\n",
    "p_t0_matriz_rala = mr.MatrizRala(N, 1)\n",
    "for i in range(N):\n",
    "    p_t0_matriz_rala[i, 0] = p_t0[i, 0]\n",
    "\n",
    "diff = np.inf\n",
    "iteracion = 0\n",
    "diferencias = []\n",
    "diferencias_pstar = []\n",
    "\n",
    "matrix = (d * (W @ D))\n",
    "\n",
    "while iteracion < 150 and diff > 1e-4:\n",
    "    p_t1 = a_matriz_rala + matrix @ p_t0_matriz_rala\n",
    "    #print((d * (W @ D)) @ p_t0_matriz_rala)\n",
    "    diff = 0  \n",
    "    diff_pstar = 0\n",
    "    \n",
    "    # Calcular la diferencia en norma ||pt+1 - pt||\n",
    "    sum_diff = 0\n",
    "    sum_diff_pstar = 0\n",
    "    \n",
    "    for i in range(N):\n",
    "        diff_temp = p_t1[i, 0] - p_t0_matriz_rala[i, 0]\n",
    "        sum_diff += diff_temp ** 2\n",
    "        \n",
    "        diff_temp_pstar = p_t1[i, 0] - p_star[i, 0]\n",
    "        sum_diff_pstar += diff_temp_pstar ** 2\n",
    "    \n",
    "    diff = sum_diff ** 0.5\n",
    "    diff_pstar = sum_diff_pstar ** 0.5\n",
    "       \n",
    "    diferencias.append(diff)\n",
    "    diferencias_pstar.append(diff_pstar)\n",
    "    p_t0_matriz_rala = p_t1  \n",
    "    iteracion += 1\n",
    "\n",
    "print(p_t1)\n"
   ]
  },
  {
   "cell_type": "code",
   "execution_count": 71,
   "metadata": {},
   "outputs": [
    {
     "data": {
      "image/png": "[encoded data removed]",
      "text/plain": [
       "<Figure size 640x480 with 1 Axes>"
      ]
     },
     "metadata": {},
     "output_type": "display_data"
    }
   ],
   "source": [
    "#graficamos la convergencia de p_t1 hacia p*\n",
    "plt.plot(diferencias_pstar)\n",
    "plt.yscale('log')\n",
    "plt.xlabel('Iteración')\n",
    "plt.ylabel('Diferencia')\n",
    "plt.title('Convergencia del método iterativo')\n",
    "plt.show()"
   ]
  },
  {
   "cell_type": "code",
   "execution_count": 72,
   "metadata": {},
   "outputs": [],
   "source": [
    "#idea del ej 4:\n",
    "#el tamaño de W y D sale de papers.csv, la cantidad de filas (salvo header)\n",
    "#la matriz de adyacencia W la sacamos de citas.csv: from son las columnas y to son las filas. por ejemplo (from:to) 5,436405 sera columna 5, fila 436405. \n",
    "#la matriz de probabilidades D la sacamos de citas.csv: para cada paper en from vemos cuantas filas hay, y sera 1/c. por ejemplo hay 4 filas deonde from = 24, entonces D[24,24]=1/4\n",
    "\n",
    "#para comparar con solo la cantidad de citas vemos para un paper en to cuantas filas tiene (eso nos dira cuantos papers lo citan) y comparamos con el vector p que obtenemos antes"
   ]
  },
  {
   "cell_type": "code",
   "execution_count": 73,
   "metadata": {},
   "outputs": [],
   "source": [
    "import pandas as pd"
   ]
  },
  {
   "cell_type": "code",
   "execution_count": 74,
   "metadata": {},
   "outputs": [],
   "source": [
    "#cargamos los dataframes\n",
    "df_citas = pd.read_csv('files/citas.csv')\n",
    "df_papers = pd.read_csv('files/papers.csv')"
   ]
  },
  {
   "cell_type": "code",
   "execution_count": 75,
   "metadata": {},
   "outputs": [],
   "source": [
    "# #inicializamos W y D a partir de la cantidad de filas - header de papers.csv\n",
    "size = df_papers.iloc[-1,0] + 1 #el i empieza en 0\n",
    "# W = mr.MatrizRala(size, size)\n",
    "# D = mr.MatrizRala(size, size)\n",
    "\n",
    "# #creamos W a partir de citas csv\n",
    "# for index, row in df_citas.iterrows():\n",
    "#     from_index = int(row['from'])\n",
    "#     to_index = int(row['to'])\n",
    "#     W[to_index, from_index] = 1\n",
    "\n",
    "# #creamos D a partir de citas csv\n",
    "# z = np.zeros(size)\n",
    "# for index, row in df_citas.iterrows():\n",
    "#     from_index = int(row['from'])\n",
    "#     z[from_index] += 1\n",
    "#     D[from_index, from_index] = 1/z[from_index]"
   ]
  },
  {
   "cell_type": "code",
   "execution_count": 77,
   "metadata": {},
   "outputs": [],
   "source": [
    "#inicilizamos WD, la matriz resultante de W@D. Como D es diagonal, anticipamos que W@D serán las columnas de W escaladas por el elemento de la diagonal en la columna correspondiente. de esta manera nos ahorramos el cómputo de W@D\n",
    "WD = mr.MatrizRala(size, size)\n",
    "z = np.zeros(size)\n",
    "for index, row in df_citas.iterrows():\n",
    "    from_index = int(row['from'])\n",
    "    to_index = int(row['to'])\n",
    "    z[from_index] += 1\n",
    "\n",
    "for index, row in df_citas.iterrows():\n",
    "    from_index = int(row['from'])\n",
    "    to_index = int(row['to'])\n",
    "    WD[to_index, from_index] = 1 / z[from_index]"
   ]
  },
  {
   "cell_type": "code",
   "execution_count": 78,
   "metadata": {},
   "outputs": [
    {
     "name": "stdout",
     "output_type": "stream",
     "text": [
      "0\n"
     ]
    },
    {
     "ename": "KeyboardInterrupt",
     "evalue": "",
     "output_type": "error",
     "traceback": [
      "\u001b[0;31m---------------------------------------------------------------------------\u001b[0m",
      "\u001b[0;31mKeyboardInterrupt\u001b[0m                         Traceback (most recent call last)",
      "Cell \u001b[0;32mIn[78], line 22\u001b[0m\n\u001b[1;32m     20\u001b[0m \u001b[38;5;28;01mwhile\u001b[39;00m iteracion \u001b[38;5;241m<\u001b[39m \u001b[38;5;241m3\u001b[39m \u001b[38;5;129;01mand\u001b[39;00m diff \u001b[38;5;241m>\u001b[39m \u001b[38;5;241m1e-4\u001b[39m:\n\u001b[1;32m     21\u001b[0m     \u001b[38;5;28mprint\u001b[39m(iteracion)\n\u001b[0;32m---> 22\u001b[0m     p_t1 \u001b[38;5;241m=\u001b[39m a_matriz_rala \u001b[38;5;241m+\u001b[39m \u001b[43mmatrix\u001b[49m\u001b[43m \u001b[49m\u001b[38;5;241;43m@\u001b[39;49m\u001b[43m \u001b[49m\u001b[43mp_t0_matriz_rala\u001b[49m\n\u001b[1;32m     23\u001b[0m     diff \u001b[38;5;241m=\u001b[39m \u001b[38;5;241m0\u001b[39m  \n\u001b[1;32m     25\u001b[0m     \u001b[38;5;66;03m# Calcular la diferencia en norma ||pt+1 - pt||\u001b[39;00m\n",
      "File \u001b[0;32m~/Desktop/Metodos/TP1/met_tp1_ver2/matricesRalas.py:225\u001b[0m, in \u001b[0;36mMatrizRala.__matmul__\u001b[0;34m(self, other)\u001b[0m\n\u001b[1;32m    223\u001b[0m \u001b[38;5;66;03m# Actualizar resultado con los valores acumulados\u001b[39;00m\n\u001b[1;32m    224\u001b[0m     \u001b[38;5;28;01mfor\u001b[39;00m idx, value \u001b[38;5;129;01min\u001b[39;00m acumulados\u001b[38;5;241m.\u001b[39mitems():\n\u001b[0;32m--> 225\u001b[0m         resultado[idx] \u001b[38;5;241m=\u001b[39m value\n\u001b[1;32m    227\u001b[0m \u001b[38;5;28;01mreturn\u001b[39;00m resultado\n",
      "\u001b[0;31mKeyboardInterrupt\u001b[0m: "
     ]
    }
   ],
   "source": [
    "#buscamos p_t+1 con el método iterativo\n",
    "d=0.85\n",
    "p_t0 = np.ones((size, 1)) * (1 / size)\n",
    "a = np.ones((size, 1)) * ((1 - d) / size)\n",
    "\n",
    "# Crear matrices ralas\n",
    "a_matriz_rala = mr.MatrizRala(size, 1)\n",
    "for i in range(size):\n",
    "    a_matriz_rala[i, 0] = a[i, 0]\n",
    "\n",
    "p_t0_matriz_rala = mr.MatrizRala(size, 1)\n",
    "for i in range(size):\n",
    "    p_t0_matriz_rala[i, 0] = p_t0[i, 0]\n",
    "\n",
    "diff = np.inf\n",
    "iteracion = 0\n",
    "diferencias = []\n",
    "matrix = (d * (WD)) #W@D\n",
    "\n",
    "while iteracion < 3 and diff > 1e-4:\n",
    "    print(iteracion)\n",
    "    p_t1 = a_matriz_rala + matrix @ p_t0_matriz_rala\n",
    "    diff = 0  \n",
    "    \n",
    "    # Calcular la diferencia en norma ||pt+1 - pt||\n",
    "    sum_diff = 0\n",
    "\n",
    "    for i in range(size):\n",
    "        diff_temp = p_t1[i, 0] - p_t0_matriz_rala[i, 0]\n",
    "        sum_diff += diff_temp ** 2\n",
    "    \n",
    "    diff = sum_diff ** 0.5\n",
    "       \n",
    "    diferencias.append(diff)\n",
    "    p_t0_matriz_rala = p_t1  \n",
    "    iteracion += 1\n",
    "\n",
    "print(\"Valores finales de p_t1\")\n",
    "print(p_t1)\n",
    "\n"
   ]
  }
 ],
 "metadata": {
  "kernelspec": {
   "display_name": "metodos2024",
   "language": "python",
   "name": "python3"
  },
  "language_info": {
   "codemirror_mode": {
    "name": "ipython",
    "version": 3
   },
   "file_extension": ".py",
   "mimetype": "text/x-python",
   "name": "python",
   "nbconvert_exporter": "python",
   "pygments_lexer": "ipython3",
   "version": "3.10.13"
  }
 },
 "nbformat": 4,
 "nbformat_minor": 2
}
